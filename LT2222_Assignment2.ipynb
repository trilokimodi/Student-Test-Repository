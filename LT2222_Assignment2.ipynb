{
  "cells": [
    {
      "cell_type": "markdown",
      "id": "removed-optimization",
      "metadata": {
        "id": "removed-optimization"
      },
      "source": [
        "# LT2222 V23 Assignment 2: Slot Detection\n",
        "\n",
        "In this assignment you'll be working with the same data as in Assignment 1 (but with a different focus). This data is made available for the *Slot and Intent Detection for Low Resource\n",
        "language varieties (SID4LR)* shared task. \n",
        "\n",
        "Given an utterance, the shared task consists on identifying the intent of the speaker along with the key spans that require an action from the system. For example, given the utterance *Add reminder to swim at 11am tomorrow*, the intent is *add reminder*, while the slots are *to do* and *datetime*. **In this assignment, we'll focus on the slot detection only.** \n",
        "\n",
        "The dataset consists of 13 languages (en, de-st, de, da, nl, it, sr, id, ar, zh, kk, tr, ja).\n",
        "\n",
        "For more details about the data please check [this paper](https://aclanthology.org/2021.naacl-main.197.pdf) by van der Goot et al., (2021)."
      ]
    },
    {
      "cell_type": "markdown",
      "id": "imposed-command",
      "metadata": {
        "id": "imposed-command"
      },
      "source": [
        "## General instructions\n",
        "\n",
        "You'll do all the work inside this notebook and submit your edited notebook back into Canvas. You many not copy code from elsewhere, but you can use functions from any module currently available on mltgpu, where the notebook will be tested. A major goal of the assignment is, in fact, for you to find them yourself and apply them. Only edit the notebook in the places where we specify you should do so.\n",
        "\n",
        "You will need to give reasonable, but not excessively verbose, documentation of your code so that we understand what you did.\n",
        "\n",
        "**The assignment is officially due at 23:59 CET on Wednesday March 8, 2023. There are 33 points and 5 bonus points.**"
      ]
    },
    {
      "cell_type": "markdown",
      "id": "rubber-assumption",
      "metadata": {
        "id": "rubber-assumption"
      },
      "source": [
        "### 1. Choose a language and download the corresponding train, validation and test data splits.  (2 points)\n",
        "\n",
        "It doesn't matter if it's the same language as in Assignment 1 or a different one.\n",
        "\n",
        "https://bitbucket.org/robvanderg/sid4lr/src/master/xSID-0.4/\n",
        "\n",
        "Store the chosen data into a directory `data/`."
      ]
    },
    {
      "cell_type": "code",
      "execution_count": 1,
      "id": "spiritual-photography",
      "metadata": {
        "colab": {
          "base_uri": "https://localhost:8080/"
        },
        "id": "spiritual-photography",
        "outputId": "afdcd694-266c-4ae5-8122-a3e7ac1c36d2"
      },
      "outputs": [
        {
          "output_type": "stream",
          "name": "stdout",
          "text": [
            "Drive already mounted at /content/drive; to attempt to forcibly remount, call drive.mount(\"/content/drive\", force_remount=True).\n"
          ]
        }
      ],
      "source": [
        "from google.colab import drive\n",
        "drive.mount('/content/drive')"
      ]
    },
    {
      "cell_type": "markdown",
      "id": "numeric-shadow",
      "metadata": {
        "id": "numeric-shadow"
      },
      "source": [
        "### 2. Import all necessary modules here. (1 point)"
      ]
    },
    {
      "cell_type": "code",
      "source": [
        "# An additional module\n",
        "!pip install conllu\n",
        "from IPython.display import clear_output\n",
        "clear_output()\n",
        "import conllu"
      ],
      "metadata": {
        "id": "pkV4AfPvmHBM"
      },
      "id": "pkV4AfPvmHBM",
      "execution_count": 1,
      "outputs": []
    },
    {
      "cell_type": "code",
      "execution_count": 2,
      "id": "involved-understanding",
      "metadata": {
        "id": "involved-understanding"
      },
      "outputs": [],
      "source": [
        "import numpy as np\n",
        "import pandas as pd\n",
        "from nltk import everygrams\n",
        "from sklearn.feature_extraction.text import CountVectorizer\n",
        "from sklearn import preprocessing\n",
        "from sklearn.linear_model import SGDClassifier\n",
        "import matplotlib.pyplot as plt\n",
        "from sklearn.metrics import accuracy_score, f1_score, precision_score, recall_score\n",
        "import os\n",
        "from sklearn.model_selection import train_test_split\n",
        "from sklearn.model_selection import StratifiedKFold\n",
        "from sklearn.model_selection import permutation_test_score"
      ]
    },
    {
      "cell_type": "markdown",
      "id": "military-differential",
      "metadata": {
        "id": "military-differential"
      },
      "source": [
        "### 3. Import the data into Python. (6 points)\n",
        "\n",
        "Write code to read the data into Python. Here we're focusing on the slot detection task. This means that you need extract the utterances along with their IOB tags. If you're not familiar with the IOB format, check out this Wikipedia entry: [IOB format](https://en.wikipedia.org/wiki/Inside%E2%80%93outside%E2%80%93beginning_(tagging)).\n",
        "\n",
        "**Enter and run your code below. You may insert additional code boxes and text boxes for comments.**"
      ]
    },
    {
      "cell_type": "code",
      "execution_count": 3,
      "id": "floating-plaza",
      "metadata": {
        "id": "floating-plaza"
      },
      "outputs": [],
      "source": [
        "def get_dataframe_from_Conll(path, filename, canRemoveDuplicates=True): \n",
        "    dataset_path = os.path.join(path, filename)\n",
        "    data = open(dataset_path, mode='r', encoding='utf-8')\n",
        "    data = data.read()\n",
        "    sentences = conllu.parse(data, fields=[\"id\", \"form\", \"intent\", \"tag\"])\n",
        "    xT = list()\n",
        "    yT = list()\n",
        "    tagT = list()\n",
        "    for iSentence in sentences:\n",
        "        sentenceString = list()\n",
        "        intentString = list()\n",
        "        tagString = list()\n",
        "        for iToken in list(iSentence):\n",
        "            sentenceString.append(iToken['form'].lower())\n",
        "            intentString.append(iToken['intent'].lower())\n",
        "            tagString.append(iToken['tag'].lower())\n",
        "        xT.append(' '.join(sentenceString))\n",
        "        yT.append(list(set(intentString))[0])\n",
        "        tagT.append(list(tagString))\n",
        "\n",
        "    data = {'X': xT, 'y': tagT, 'intent': yT}\n",
        "    df = pd.DataFrame(data=data)\n",
        "    if (canRemoveDuplicates == True):\n",
        "        df.drop_duplicates(subset=['X'], inplace=True)\n",
        "        df.reset_index(drop=True, inplace=True)\n",
        "    return df"
      ]
    },
    {
      "cell_type": "code",
      "source": [
        "# As instructed the data is in data folder and I assume that CWD is one directory before data dir.\n",
        "# dataset = os.path.join(os.getcwd(), 'data')\n",
        "dataset =  \"/content/drive/My Drive/MLSNLP/Data/\"\n",
        "df_train = get_dataframe_from_Conll(dataset, 'en.train.conll', canRemoveDuplicates=True)\n",
        "df_valid = get_dataframe_from_Conll(dataset, 'en.valid.conll', canRemoveDuplicates=True)"
      ],
      "metadata": {
        "id": "PdYvbpXIovTd"
      },
      "id": "PdYvbpXIovTd",
      "execution_count": 4,
      "outputs": []
    },
    {
      "cell_type": "code",
      "source": [
        "df_train.head(5)"
      ],
      "metadata": {
        "colab": {
          "base_uri": "https://localhost:8080/",
          "height": 206
        },
        "id": "P_ihvk26qGBu",
        "outputId": "fc8522ab-6d76-43d3-cf88-558a6d61b5cd"
      },
      "id": "P_ihvk26qGBu",
      "execution_count": 5,
      "outputs": [
        {
          "output_type": "execute_result",
          "data": {
            "text/plain": [
              "                                                   X  \\\n",
              "0       tell me the weather report for half moon bay   \n",
              "1      give me the latest forecast for half moon bay   \n",
              "2        give me friday's forecast for half moon bay   \n",
              "3  i need to know the latest forecast for half mo...   \n",
              "4  do you have thursday's weather report for half...   \n",
              "\n",
              "                                                   y        intent  \n",
              "0  [o, o, o, o, o, o, b-location, i-location, i-l...  weather/find  \n",
              "1  [o, o, o, b-datetime, o, o, b-location, i-loca...  weather/find  \n",
              "2  [o, o, b-datetime, o, o, b-location, i-locatio...  weather/find  \n",
              "3  [o, o, o, o, o, b-datetime, o, o, b-datetime, ...  weather/find  \n",
              "4  [o, o, o, b-datetime, o, o, o, b-location, i-l...  weather/find  "
            ],
            "text/html": [
              "\n",
              "  <div id=\"df-adbad113-bc0c-4d64-9b12-148a1e8827f7\">\n",
              "    <div class=\"colab-df-container\">\n",
              "      <div>\n",
              "<style scoped>\n",
              "    .dataframe tbody tr th:only-of-type {\n",
              "        vertical-align: middle;\n",
              "    }\n",
              "\n",
              "    .dataframe tbody tr th {\n",
              "        vertical-align: top;\n",
              "    }\n",
              "\n",
              "    .dataframe thead th {\n",
              "        text-align: right;\n",
              "    }\n",
              "</style>\n",
              "<table border=\"1\" class=\"dataframe\">\n",
              "  <thead>\n",
              "    <tr style=\"text-align: right;\">\n",
              "      <th></th>\n",
              "      <th>X</th>\n",
              "      <th>y</th>\n",
              "      <th>intent</th>\n",
              "    </tr>\n",
              "  </thead>\n",
              "  <tbody>\n",
              "    <tr>\n",
              "      <th>0</th>\n",
              "      <td>tell me the weather report for half moon bay</td>\n",
              "      <td>[o, o, o, o, o, o, b-location, i-location, i-l...</td>\n",
              "      <td>weather/find</td>\n",
              "    </tr>\n",
              "    <tr>\n",
              "      <th>1</th>\n",
              "      <td>give me the latest forecast for half moon bay</td>\n",
              "      <td>[o, o, o, b-datetime, o, o, b-location, i-loca...</td>\n",
              "      <td>weather/find</td>\n",
              "    </tr>\n",
              "    <tr>\n",
              "      <th>2</th>\n",
              "      <td>give me friday's forecast for half moon bay</td>\n",
              "      <td>[o, o, b-datetime, o, o, b-location, i-locatio...</td>\n",
              "      <td>weather/find</td>\n",
              "    </tr>\n",
              "    <tr>\n",
              "      <th>3</th>\n",
              "      <td>i need to know the latest forecast for half mo...</td>\n",
              "      <td>[o, o, o, o, o, b-datetime, o, o, b-datetime, ...</td>\n",
              "      <td>weather/find</td>\n",
              "    </tr>\n",
              "    <tr>\n",
              "      <th>4</th>\n",
              "      <td>do you have thursday's weather report for half...</td>\n",
              "      <td>[o, o, o, b-datetime, o, o, o, b-location, i-l...</td>\n",
              "      <td>weather/find</td>\n",
              "    </tr>\n",
              "  </tbody>\n",
              "</table>\n",
              "</div>\n",
              "      <button class=\"colab-df-convert\" onclick=\"convertToInteractive('df-adbad113-bc0c-4d64-9b12-148a1e8827f7')\"\n",
              "              title=\"Convert this dataframe to an interactive table.\"\n",
              "              style=\"display:none;\">\n",
              "        \n",
              "  <svg xmlns=\"http://www.w3.org/2000/svg\" height=\"24px\"viewBox=\"0 0 24 24\"\n",
              "       width=\"24px\">\n",
              "    <path d=\"M0 0h24v24H0V0z\" fill=\"none\"/>\n",
              "    <path d=\"M18.56 5.44l.94 2.06.94-2.06 2.06-.94-2.06-.94-.94-2.06-.94 2.06-2.06.94zm-11 1L8.5 8.5l.94-2.06 2.06-.94-2.06-.94L8.5 2.5l-.94 2.06-2.06.94zm10 10l.94 2.06.94-2.06 2.06-.94-2.06-.94-.94-2.06-.94 2.06-2.06.94z\"/><path d=\"M17.41 7.96l-1.37-1.37c-.4-.4-.92-.59-1.43-.59-.52 0-1.04.2-1.43.59L10.3 9.45l-7.72 7.72c-.78.78-.78 2.05 0 2.83L4 21.41c.39.39.9.59 1.41.59.51 0 1.02-.2 1.41-.59l7.78-7.78 2.81-2.81c.8-.78.8-2.07 0-2.86zM5.41 20L4 18.59l7.72-7.72 1.47 1.35L5.41 20z\"/>\n",
              "  </svg>\n",
              "      </button>\n",
              "      \n",
              "  <style>\n",
              "    .colab-df-container {\n",
              "      display:flex;\n",
              "      flex-wrap:wrap;\n",
              "      gap: 12px;\n",
              "    }\n",
              "\n",
              "    .colab-df-convert {\n",
              "      background-color: #E8F0FE;\n",
              "      border: none;\n",
              "      border-radius: 50%;\n",
              "      cursor: pointer;\n",
              "      display: none;\n",
              "      fill: #1967D2;\n",
              "      height: 32px;\n",
              "      padding: 0 0 0 0;\n",
              "      width: 32px;\n",
              "    }\n",
              "\n",
              "    .colab-df-convert:hover {\n",
              "      background-color: #E2EBFA;\n",
              "      box-shadow: 0px 1px 2px rgba(60, 64, 67, 0.3), 0px 1px 3px 1px rgba(60, 64, 67, 0.15);\n",
              "      fill: #174EA6;\n",
              "    }\n",
              "\n",
              "    [theme=dark] .colab-df-convert {\n",
              "      background-color: #3B4455;\n",
              "      fill: #D2E3FC;\n",
              "    }\n",
              "\n",
              "    [theme=dark] .colab-df-convert:hover {\n",
              "      background-color: #434B5C;\n",
              "      box-shadow: 0px 1px 3px 1px rgba(0, 0, 0, 0.15);\n",
              "      filter: drop-shadow(0px 1px 2px rgba(0, 0, 0, 0.3));\n",
              "      fill: #FFFFFF;\n",
              "    }\n",
              "  </style>\n",
              "\n",
              "      <script>\n",
              "        const buttonEl =\n",
              "          document.querySelector('#df-adbad113-bc0c-4d64-9b12-148a1e8827f7 button.colab-df-convert');\n",
              "        buttonEl.style.display =\n",
              "          google.colab.kernel.accessAllowed ? 'block' : 'none';\n",
              "\n",
              "        async function convertToInteractive(key) {\n",
              "          const element = document.querySelector('#df-adbad113-bc0c-4d64-9b12-148a1e8827f7');\n",
              "          const dataTable =\n",
              "            await google.colab.kernel.invokeFunction('convertToInteractive',\n",
              "                                                     [key], {});\n",
              "          if (!dataTable) return;\n",
              "\n",
              "          const docLinkHtml = 'Like what you see? Visit the ' +\n",
              "            '<a target=\"_blank\" href=https://colab.research.google.com/notebooks/data_table.ipynb>data table notebook</a>'\n",
              "            + ' to learn more about interactive tables.';\n",
              "          element.innerHTML = '';\n",
              "          dataTable['output_type'] = 'display_data';\n",
              "          await google.colab.output.renderOutput(dataTable, element);\n",
              "          const docLink = document.createElement('div');\n",
              "          docLink.innerHTML = docLinkHtml;\n",
              "          element.appendChild(docLink);\n",
              "        }\n",
              "      </script>\n",
              "    </div>\n",
              "  </div>\n",
              "  "
            ]
          },
          "metadata": {},
          "execution_count": 5
        }
      ]
    },
    {
      "cell_type": "markdown",
      "id": "written-geometry",
      "metadata": {
        "id": "written-geometry"
      },
      "source": [
        "### 4. Think about the features. (1 points)\n",
        "\n",
        "In this task, we have a one token to one label prediction problem. (You may recall that in assignment 1, we had a one utterance to one label problem). One modeling option here would be to do a bag-of-words for predicting each label individually. \n",
        "\n",
        "    1. Why is that not the best for our task?\n",
        "\n",
        "**Enter your answer below.**"
      ]
    },
    {
      "cell_type": "code",
      "source": [
        "repr('The bag of ')"
      ],
      "metadata": {
        "colab": {
          "base_uri": "https://localhost:8080/",
          "height": 36
        },
        "id": "6gC5NqpTNnM8",
        "outputId": "118163ea-1740-42cb-b0e6-91a98fd27430"
      },
      "id": "6gC5NqpTNnM8",
      "execution_count": 6,
      "outputs": [
        {
          "output_type": "execute_result",
          "data": {
            "text/plain": [
              "\"'The bag of '\""
            ],
            "application/vnd.google.colaboratory.intrinsic+json": {
              "type": "string"
            }
          },
          "metadata": {},
          "execution_count": 6
        }
      ]
    },
    {
      "cell_type": "markdown",
      "id": "brutal-marijuana",
      "metadata": {
        "id": "brutal-marijuana"
      },
      "source": [
        "### 5. Build your features. (12 points)\n",
        "\n",
        "When we predict sequences, we usually use a family of algorithms specialized on sequences, for example, HMMs (which you may recall from language modeling) or CRFs. We are **not** covering these in LT2222. However, we can still approximate a sequence, i.e., use the context, in the form of individual features. For this, we'll represent each training example as:\n",
        "\n",
        "*previous token, current token, next token, current label*\n",
        "\n",
        "Extract the training examples so you have your **X and Y variables**. Then, transform them into sparce vectors relying on [Scikit-learn feature extraction](https://scikit-learn.org/stable/modules/feature_extraction.html#feature-extraction).  \n",
        "\n",
        "\n",
        "**Enter and run your code below. You may insert additional code boxes and text boxes for comments.**"
      ]
    },
    {
      "cell_type": "code",
      "execution_count": 7,
      "id": "civil-publicity",
      "metadata": {
        "id": "civil-publicity"
      },
      "outputs": [],
      "source": [
        "def add_words_beginning_end(df):\n",
        "    df['X'] = df['X'].apply(lambda x: \"{}{}\".format('NonLabelToken ', x))\n",
        "    df['X'] = df['X'].apply(lambda x: \"{}{}\".format(x, ' NonLabelToken'))\n",
        "    return df"
      ]
    },
    {
      "cell_type": "code",
      "source": [
        "df_train = add_words_beginning_end(df_train)\n",
        "df_valid = add_words_beginning_end(df_valid)"
      ],
      "metadata": {
        "id": "VEpeSTQ4l-Cp"
      },
      "id": "VEpeSTQ4l-Cp",
      "execution_count": 8,
      "outputs": []
    },
    {
      "cell_type": "code",
      "source": [
        "def append_n_grams_in_df(df, n=3):\n",
        "    df['trigrams'] = df['X'].apply(lambda utterance: list(everygrams(utterance.split(), n, n)))\n",
        "    return df"
      ],
      "metadata": {
        "id": "bIUZSQbjtQm6"
      },
      "id": "bIUZSQbjtQm6",
      "execution_count": 9,
      "outputs": []
    },
    {
      "cell_type": "code",
      "source": [
        "df_train = append_n_grams_in_df(df_train)\n",
        "df_valid = append_n_grams_in_df(df_valid)"
      ],
      "metadata": {
        "id": "PQnlz5Ffl-gn"
      },
      "id": "PQnlz5Ffl-gn",
      "execution_count": 10,
      "outputs": []
    },
    {
      "cell_type": "code",
      "source": [
        "def get_trigrams_label(df):\n",
        "    df['trigrams_label'] = df.apply(lambda a: dict(zip(a['trigrams'], a['y'])), axis=1)\n",
        "    return df\n",
        "\n",
        "df_train = get_trigrams_label(df_train)\n",
        "df_valid = get_trigrams_label(df_valid)"
      ],
      "metadata": {
        "id": "DRRPIKkutNAX"
      },
      "id": "DRRPIKkutNAX",
      "execution_count": 11,
      "outputs": []
    },
    {
      "cell_type": "code",
      "source": [
        "df_train['trigrams_label'].head(10)"
      ],
      "metadata": {
        "colab": {
          "base_uri": "https://localhost:8080/"
        },
        "id": "9ICSvlL94G1d",
        "outputId": "3fc5122a-014c-4567-b10f-c50ffbfc5216"
      },
      "id": "9ICSvlL94G1d",
      "execution_count": 12,
      "outputs": [
        {
          "output_type": "execute_result",
          "data": {
            "text/plain": [
              "0    {('NonLabelToken', 'tell', 'me'): 'o', ('tell'...\n",
              "1    {('NonLabelToken', 'give', 'me'): 'o', ('give'...\n",
              "2    {('NonLabelToken', 'give', 'me'): 'o', ('give'...\n",
              "3    {('NonLabelToken', 'i', 'need'): 'o', ('i', 'n...\n",
              "4    {('NonLabelToken', 'do', 'you'): 'o', ('do', '...\n",
              "5    {('NonLabelToken', 'do', 'you'): 'o', ('do', '...\n",
              "6    {('NonLabelToken', 'give', 'me'): 'o', ('give'...\n",
              "7    {('NonLabelToken', 'give', 'me'): 'o', ('give'...\n",
              "8    {('NonLabelToken', 'give', 'me'): 'o', ('give'...\n",
              "9    {('NonLabelToken', 'i', 'need'): 'o', ('i', 'n...\n",
              "Name: trigrams_label, dtype: object"
            ]
          },
          "metadata": {},
          "execution_count": 12
        }
      ]
    },
    {
      "cell_type": "code",
      "source": [
        "def get_trigram_label_dataframe(df):\n",
        "    xT = df['trigrams_label'].apply(lambda x: pd.DataFrame({'X':' '.join(k), 'y':v} for k, v in x.items()))\n",
        "    xT = xT.to_dict()\n",
        "    xT = pd.concat(xT.values(), ignore_index=True)\n",
        "    return xT"
      ],
      "metadata": {
        "id": "cVD2b9tvh0T4"
      },
      "id": "cVD2b9tvh0T4",
      "execution_count": 13,
      "outputs": []
    },
    {
      "cell_type": "code",
      "source": [
        "xTrain = get_trigram_label_dataframe(df_train)\n",
        "xValid = get_trigram_label_dataframe(df_valid)"
      ],
      "metadata": {
        "id": "8_ZUUQB-tuO1"
      },
      "id": "8_ZUUQB-tuO1",
      "execution_count": 14,
      "outputs": []
    },
    {
      "cell_type": "code",
      "source": [
        "vectorizer = CountVectorizer()\n",
        "def get_one_hot_encoded_features(X=xTrain['X'], vectorizer=vectorizer, isTrainData=True):\n",
        "    if (isTrainData == True):\n",
        "        return vectorizer.fit_transform(X)\n",
        "    else:\n",
        "        return vectorizer.transform(X)"
      ],
      "metadata": {
        "id": "c3od2nEdANf7"
      },
      "id": "c3od2nEdANf7",
      "execution_count": 15,
      "outputs": []
    },
    {
      "cell_type": "code",
      "source": [
        "XTrain_OneHotEncodedFeatures = get_one_hot_encoded_features(X=xTrain['X'], isTrainData=True)\n",
        "XValid_OneHotEncodedFeatures = get_one_hot_encoded_features(X=xValid['X'], isTrainData=False)"
      ],
      "metadata": {
        "id": "lo0sclZ7DdNK"
      },
      "id": "lo0sclZ7DdNK",
      "execution_count": 16,
      "outputs": []
    },
    {
      "cell_type": "code",
      "source": [
        "XTrain_OneHotEncodedFeatures"
      ],
      "metadata": {
        "colab": {
          "base_uri": "https://localhost:8080/"
        },
        "id": "OTgiZ0IiwODN",
        "outputId": "808a3f1d-3e22-40d6-dd5b-a9dc3a71aba7"
      },
      "id": "OTgiZ0IiwODN",
      "execution_count": 17,
      "outputs": [
        {
          "output_type": "execute_result",
          "data": {
            "text/plain": [
              "<295154x12972 sparse matrix of type '<class 'numpy.int64'>'\n",
              "\twith 807957 stored elements in Compressed Sparse Row format>"
            ]
          },
          "metadata": {},
          "execution_count": 17
        }
      ]
    },
    {
      "cell_type": "markdown",
      "id": "backed-blank",
      "metadata": {
        "id": "backed-blank"
      },
      "source": [
        "### 5. Using Scikit-learn fit either a SVM or a Maximum Entropy model. (3 points)\n",
        "\n",
        "Write your model inside a function. You'll need to call that function for testing.\n",
        "\n",
        "(If you run out of memory, or want an even quicker training, train on the validation set and test on the test set.) \n",
        "\n",
        "**Enter and run your code below. You may insert additional code boxes and text boxes for comments.**"
      ]
    },
    {
      "cell_type": "code",
      "execution_count": 18,
      "id": "mechanical-sixth",
      "metadata": {
        "id": "mechanical-sixth"
      },
      "outputs": [],
      "source": [
        "labelEncoder = preprocessing.LabelEncoder()\n",
        "def make_numeric_labels(yTrain=xTrain['y']):\n",
        "    labelEncoder.fit(list(set(yTrain)))\n",
        "    \n",
        "def get_numeric_labels(y=xTrain['y'], labelEncoder=labelEncoder):\n",
        "    return labelEncoder.transform(y)\n",
        "\n",
        "make_numeric_labels()"
      ]
    },
    {
      "cell_type": "code",
      "source": [
        "y_train_true = get_numeric_labels(xTrain['y'])\n",
        "y_valid_true = get_numeric_labels(xValid['y'])"
      ],
      "metadata": {
        "id": "JQx1miqvza7m"
      },
      "id": "JQx1miqvza7m",
      "execution_count": 19,
      "outputs": []
    },
    {
      "cell_type": "code",
      "source": [
        "classifier = SGDClassifier(loss='hinge', penalty='l2', alpha=1e-3, random_state=77, max_iter=5, tol=None)\n",
        "def make_SVM_model(one_hot_encoded_features=XTrain_OneHotEncodedFeatures, numeric_labels=y_train_true, classifier=classifier):\n",
        "    classifier.fit(one_hot_encoded_features.toarray(), numeric_labels)\n",
        "\n",
        "\n",
        "make_SVM_model(one_hot_encoded_features=XValid_OneHotEncodedFeatures, numeric_labels=y_valid_true)"
      ],
      "metadata": {
        "id": "EeJlT9tvzggt"
      },
      "id": "EeJlT9tvzggt",
      "execution_count": 21,
      "outputs": []
    },
    {
      "cell_type": "code",
      "source": [
        "# make_SVM_model()"
      ],
      "metadata": {
        "id": "nVpWPxag37es"
      },
      "id": "nVpWPxag37es",
      "execution_count": null,
      "outputs": []
    },
    {
      "cell_type": "markdown",
      "id": "signed-council",
      "metadata": {
        "id": "signed-council"
      },
      "source": [
        "### 6. Evaluate your model using the development or test set. (8 points)\n",
        "\n",
        "If you arrived here, you've transformed your data in a way that you no longer have complete utterances but a training point per word. This means that your model has learned to predict one label at the time (ie., takes in one example or training point, ouputs one label). \n",
        "\n",
        "Now, you need to test your model:\n",
        "\n",
        "    1. Process your test set in the same way that you processed your training set.\n",
        "    2. Feed the model one example at the time (call your model after each example).\n",
        "    3. Compute accuracy per example (you may use Scikit-learn metrics).\n",
        "\n",
        "**Enter and run your code below. You may insert additional code boxes and text boxes for comments.**"
      ]
    },
    {
      "cell_type": "code",
      "source": [
        "df_test = get_dataframe_from_Conll(dataset, 'en.test.conll', canRemoveDuplicates=True)\n",
        "df_test = add_words_beginning_end(df_test)\n",
        "df_test = append_n_grams_in_df(df_test)\n",
        "df_test = get_trigrams_label(df_test)\n",
        "xTest = get_trigram_label_dataframe(df_test)\n",
        "XTest_OneHotEncodedFeatures = get_one_hot_encoded_features(X=xTest['X'], isTrainData=False)\n",
        "y_test_true = get_numeric_labels(xTest['y'])"
      ],
      "metadata": {
        "id": "u2Lmhov746C7"
      },
      "id": "u2Lmhov746C7",
      "execution_count": 22,
      "outputs": []
    },
    {
      "cell_type": "code",
      "execution_count": 24,
      "id": "right-simpson",
      "metadata": {
        "id": "right-simpson"
      },
      "outputs": [],
      "source": [
        "def get_predicted_labels(one_hot_encoded_features_predict=XTest_OneHotEncodedFeatures, classifier=classifier):\n",
        "    return classifier.predict(one_hot_encoded_features_predict.toarray())\n",
        "\n",
        "y_valid_pred = get_predicted_labels(one_hot_encoded_features_predict=XValid_OneHotEncodedFeatures)\n",
        "y_test_pred = get_predicted_labels(one_hot_encoded_features_predict=XTest_OneHotEncodedFeatures)\n",
        "\n",
        "#y_test_pred = classifier.predict(XTest_OneHotEncodedFeatures.toarray())\n",
        "#np.mean(y_test_pred == y_test_true)"
      ]
    },
    {
      "cell_type": "code",
      "source": [
        "correctPerExample = list()\n",
        "for index in range(len(df_test)):\n",
        "    xTest = get_trigram_label_dataframe(df_test.iloc[[index]])\n",
        "    XTest_OneHotEncodedFeatures = get_one_hot_encoded_features(X=xTest['X'], isTrainData=False)\n",
        "    y_test_true = get_numeric_labels(xTest['y'])\n",
        "    y_test_pred = get_predicted_labels(one_hot_encoded_features_predict=XTest_OneHotEncodedFeatures)\n",
        "    correctPerExample.append(np.mean(y_test_pred == y_test_true))"
      ],
      "metadata": {
        "id": "UbqO22mW6Z0i"
      },
      "id": "UbqO22mW6Z0i",
      "execution_count": 59,
      "outputs": []
    },
    {
      "cell_type": "code",
      "source": [
        "plt.plot(sorted(correctPerExample, reverse=False))\n",
        "plt.xlabel('Index for test set example (Ordered by accuracy value)')\n",
        "plt.ylabel('Accuracy')\n",
        "plt.title('All data points for per example accuracy in test set')"
      ],
      "metadata": {
        "colab": {
          "base_uri": "https://localhost:8080/",
          "height": 312
        },
        "id": "rNOggQsPEo9s",
        "outputId": "ee278adf-5b78-4194-814f-1f8a69201d0e"
      },
      "id": "rNOggQsPEo9s",
      "execution_count": 67,
      "outputs": [
        {
          "output_type": "execute_result",
          "data": {
            "text/plain": [
              "Text(0.5, 1.0, 'All data points for per example accuracy in test set')"
            ]
          },
          "metadata": {},
          "execution_count": 67
        },
        {
          "output_type": "display_data",
          "data": {
            "text/plain": [
              "<Figure size 432x288 with 1 Axes>"
            ],
            "image/png": "[encoded data removed]"
          },
          "metadata": {
            "needs_background": "light"
          }
        }
      ]
    },
    {
      "cell_type": "code",
      "source": [
        "plt.hist(correctPerExample)\n",
        "plt.xlabel('Per example accuracy')\n",
        "plt.ylabel('Frequency')\n",
        "plt.title('Histogram to show per example accuracy')"
      ],
      "metadata": {
        "colab": {
          "base_uri": "https://localhost:8080/",
          "height": 312
        },
        "id": "g-NelHFXEWNG",
        "outputId": "3eae689b-f5cf-4c1c-baf6-d2c17cdf182a"
      },
      "id": "g-NelHFXEWNG",
      "execution_count": 62,
      "outputs": [
        {
          "output_type": "execute_result",
          "data": {
            "text/plain": [
              "Text(0.5, 1.0, 'Histogram to show per example accuracy')"
            ]
          },
          "metadata": {},
          "execution_count": 62
        },
        {
          "output_type": "display_data",
          "data": {
            "text/plain": [
              "<Figure size 432x288 with 1 Axes>"
            ],
            "image/png": "[encoded data removed]"
          },
          "metadata": {
            "needs_background": "light"
          }
        }
      ]
    },
    {
      "cell_type": "markdown",
      "id": "pacific-absence",
      "metadata": {
        "id": "pacific-absence"
      },
      "source": [
        "# Bonus 1 point: Compute the accuracy for the entire test set.  "
      ]
    },
    {
      "cell_type": "code",
      "execution_count": 25,
      "id": "chicken-ranking",
      "metadata": {
        "id": "chicken-ranking"
      },
      "outputs": [],
      "source": [
        "def get_evaluation_metrics_scores(yTrue, yPred):\n",
        "    model_accuracy = accuracy_score(yTrue, yPred)\n",
        "    print(f'The accuracy of the model = {model_accuracy:.4f}')\n",
        "\n",
        "    model_precision = precision_score(yTrue, yPred, average='macro')\n",
        "    print(f'The precision of the model with macro average = {model_precision:.4f}')\n",
        "\n",
        "    model_recall = recall_score(yTrue, yPred, average='macro')\n",
        "    print(f'The recall of the model with macro average = {model_recall:.4f}')\n",
        "\n",
        "    model_f1score = f1_score(yTrue, yPred, average='macro')\n",
        "    print(f'The f1 score of the model with macro average = {model_f1score:.4f}')"
      ]
    },
    {
      "cell_type": "code",
      "source": [
        "get_evaluation_metrics_scores(y_valid_true, y_valid_pred)"
      ],
      "metadata": {
        "colab": {
          "base_uri": "https://localhost:8080/"
        },
        "id": "dhg6am0v6c4B",
        "outputId": "adc079e7-e18a-48f1-dd54-f7aba4cfbbd9"
      },
      "id": "dhg6am0v6c4B",
      "execution_count": 26,
      "outputs": [
        {
          "output_type": "stream",
          "name": "stdout",
          "text": [
            "The accuracy of the model = 0.7645\n",
            "The precision of the model with macro average = 0.6821\n",
            "The recall of the model with macro average = 0.4530\n",
            "The f1 score of the model with macro average = 0.5104\n"
          ]
        },
        {
          "output_type": "stream",
          "name": "stderr",
          "text": [
            "/usr/local/lib/python3.8/dist-packages/sklearn/metrics/_classification.py:1344: UndefinedMetricWarning: Precision is ill-defined and being set to 0.0 in labels with no predicted samples. Use `zero_division` parameter to control this behavior.\n",
            "  _warn_prf(average, modifier, msg_start, len(result))\n"
          ]
        }
      ]
    },
    {
      "cell_type": "code",
      "source": [
        "get_evaluation_metrics_scores(y_test_true, y_test_pred)"
      ],
      "metadata": {
        "colab": {
          "base_uri": "https://localhost:8080/"
        },
        "id": "j4eLh8lB6e_E",
        "outputId": "67d7f589-94bd-4566-e0d8-e2ca9a78ba1e"
      },
      "id": "j4eLh8lB6e_E",
      "execution_count": 27,
      "outputs": [
        {
          "output_type": "stream",
          "name": "stdout",
          "text": [
            "The accuracy of the model = 0.6145\n",
            "The precision of the model with macro average = 0.2779\n",
            "The recall of the model with macro average = 0.1762\n",
            "The f1 score of the model with macro average = 0.1911\n"
          ]
        },
        {
          "output_type": "stream",
          "name": "stderr",
          "text": [
            "/usr/local/lib/python3.8/dist-packages/sklearn/metrics/_classification.py:1344: UndefinedMetricWarning: Precision is ill-defined and being set to 0.0 in labels with no predicted samples. Use `zero_division` parameter to control this behavior.\n",
            "  _warn_prf(average, modifier, msg_start, len(result))\n"
          ]
        }
      ]
    },
    {
      "cell_type": "code",
      "source": [
        "plt.hist(y_train_true)\n",
        "plt.xlabel('Encoded intent')\n",
        "plt.ylabel('Frequency')\n",
        "plt.title('Histogram to show class imbalance')"
      ],
      "metadata": {
        "colab": {
          "base_uri": "https://localhost:8080/",
          "height": 312
        },
        "id": "rPlfN2_w6mz4",
        "outputId": "4e3ac1cf-f7fa-4e8b-9be6-f0c2d4bbba51"
      },
      "id": "rPlfN2_w6mz4",
      "execution_count": 28,
      "outputs": [
        {
          "output_type": "execute_result",
          "data": {
            "text/plain": [
              "Text(0.5, 1.0, 'Histogram to show class imbalance')"
            ]
          },
          "metadata": {},
          "execution_count": 28
        },
        {
          "output_type": "display_data",
          "data": {
            "text/plain": [
              "<Figure size 432x288 with 1 Axes>"
            ],
            "image/png": "[encoded data removed]"
          },
          "metadata": {
            "needs_background": "light"
          }
        }
      ]
    },
    {
      "cell_type": "markdown",
      "id": "obvious-thing",
      "metadata": {
        "id": "obvious-thing"
      },
      "source": [
        "# Bonus 4 points: Find out what are the best features per class."
      ]
    },
    {
      "cell_type": "code",
      "execution_count": 49,
      "id": "preceding-cornell",
      "metadata": {
        "colab": {
          "base_uri": "https://localhost:8080/"
        },
        "id": "preceding-cornell",
        "outputId": "65ecb592-b722-4139-d682-71a51ee48d5c"
      },
      "outputs": [
        {
          "output_type": "stream",
          "name": "stdout",
          "text": [
            "                      Class Feature with highest coefficient\n",
            "0    b-alarm/alarm_modifier                             None\n",
            "1                   b-album                            album\n",
            "2                  b-artist                           ashley\n",
            "3             b-best_rating                               of\n",
            "4   b-condition_description                           nearby\n",
            "..                      ...                              ...\n",
            "67                   i-sort                         twenties\n",
            "68                  i-track                             None\n",
            "69      i-weather/attribute                               of\n",
            "70                        o                             need\n",
            "71      orecurring_datetime                             None\n",
            "\n",
            "[72 rows x 2 columns]\n"
          ]
        }
      ],
      "source": [
        "bfpc = {'Class': labelEncoder.classes_, 'Feature with highest coefficient': [None] * len(labelEncoder.classes_)}\n",
        "for index, label in enumerate(labelEncoder.classes_):\n",
        "    if index in classifier.classes_:\n",
        "        coeffIndex = list(classifier.classes_).index(index)\n",
        "        highestCoeff = np.argsort(classifier.coef_[coeffIndex])[-1:][0]\n",
        "        bfpc['Feature with highest coefficient'][index] = vectorizer.get_feature_names_out()[highestCoeff]\n",
        "\n",
        "bfpc = pd.DataFrame(data=bfpc, columns=['Class', 'Feature with highest coefficient'])\n",
        "print(bfpc)"
      ]
    }
  ],
  "metadata": {
    "kernelspec": {
      "display_name": "Python 3",
      "language": "python",
      "name": "python3"
    },
    "language_info": {
      "codemirror_mode": {
        "name": "ipython",
        "version": 3
      },
      "file_extension": ".py",
      "mimetype": "text/x-python",
      "name": "python",
      "nbconvert_exporter": "python",
      "pygments_lexer": "ipython3",
      "version": "3.10.7"
    },
    "colab": {
      "provenance": []
    }
  },
  "nbformat": 4,
  "nbformat_minor": 5
}