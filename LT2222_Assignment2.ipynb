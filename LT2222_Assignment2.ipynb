{
  "cells": [
    {
      "cell_type": "markdown",
      "metadata": {
        "id": "view-in-github",
        "colab_type": "text"
      },
      "source": [
        "<a href=\"https://colab.research.google.com/github/trilokimodi/Student-Test-Repository/blob/master/LT2222_Assignment2.ipynb\" target=\"_parent\"><img src=\"https://colab.research.google.com/assets/colab-badge.svg\" alt=\"Open In Colab\"/></a>"
      ]
    },
    {
      "cell_type": "markdown",
      "id": "removed-optimization",
      "metadata": {
        "id": "removed-optimization"
      },
      "source": [
        "# LT2222 V23 Assignment 2: Slot Detection\n",
        "\n",
        "In this assignment you'll be working with the same data as in Assignment 1 (but with a different focus). This data is made available for the *Slot and Intent Detection for Low Resource\n",
        "language varieties (SID4LR)* shared task. \n",
        "\n",
        "Given an utterance, the shared task consists on identifying the intent of the speaker along with the key spans that require an action from the system. For example, given the utterance *Add reminder to swim at 11am tomorrow*, the intent is *add reminder*, while the slots are *to do* and *datetime*. **In this assignment, we'll focus on the slot detection only.** \n",
        "\n",
        "The dataset consists of 13 languages (en, de-st, de, da, nl, it, sr, id, ar, zh, kk, tr, ja).\n",
        "\n",
        "For more details about the data please check [this paper](https://aclanthology.org/2021.naacl-main.197.pdf) by van der Goot et al., (2021)."
      ]
    },
    {
      "cell_type": "markdown",
      "id": "imposed-command",
      "metadata": {
        "id": "imposed-command"
      },
      "source": [
        "## General instructions\n",
        "\n",
        "You'll do all the work inside this notebook and submit your edited notebook back into Canvas. You many not copy code from elsewhere, but you can use functions from any module currently available on mltgpu, where the notebook will be tested. A major goal of the assignment is, in fact, for you to find them yourself and apply them. Only edit the notebook in the places where we specify you should do so.\n",
        "\n",
        "You will need to give reasonable, but not excessively verbose, documentation of your code so that we understand what you did.\n",
        "\n",
        "**The assignment is officially due at 23:59 CET on Wednesday March 8, 2023. There are 33 points and 5 bonus points.**"
      ]
    },
    {
      "cell_type": "markdown",
      "id": "rubber-assumption",
      "metadata": {
        "id": "rubber-assumption"
      },
      "source": [
        "### 1. Choose a language and download the corresponding train, validation and test data splits.  (2 points)\n",
        "\n",
        "It doesn't matter if it's the same language as in Assignment 1 or a different one.\n",
        "\n",
        "https://bitbucket.org/robvanderg/sid4lr/src/master/xSID-0.4/\n",
        "\n",
        "Store the chosen data into a directory `data/`."
      ]
    },
    {
      "cell_type": "markdown",
      "id": "ef2f4e36",
      "metadata": {
        "id": "ef2f4e36"
      },
      "source": [
        "*I downloaded zip file, extracted and manually uploaded the english language files in the data folder.*"
      ]
    },
    {
      "cell_type": "markdown",
      "id": "numeric-shadow",
      "metadata": {
        "id": "numeric-shadow"
      },
      "source": [
        "### 2. Import all necessary modules here. (1 point)"
      ]
    },
    {
      "cell_type": "code",
      "source": [
        "from google.colab import drive\n",
        "drive.mount('/content/drive')"
      ],
      "metadata": {
        "id": "y2av7uwsdS_g"
      },
      "id": "y2av7uwsdS_g",
      "execution_count": null,
      "outputs": []
    },
    {
      "cell_type": "code",
      "execution_count": null,
      "id": "pkV4AfPvmHBM",
      "metadata": {
        "id": "pkV4AfPvmHBM"
      },
      "outputs": [],
      "source": [
        "# An additional module\n",
        "!pip install conllu\n",
        "from IPython.display import clear_output\n",
        "clear_output()\n",
        "import conllu"
      ]
    },
    {
      "cell_type": "code",
      "execution_count": null,
      "id": "involved-understanding",
      "metadata": {
        "id": "involved-understanding"
      },
      "outputs": [],
      "source": [
        "import numpy as np\n",
        "import pandas as pd\n",
        "from nltk import everygrams\n",
        "from sklearn.feature_extraction.text import CountVectorizer, TfidfTransformer\n",
        "from sklearn.linear_model import SGDClassifier\n",
        "from sklearn import preprocessing\n",
        "import matplotlib.pyplot as plt\n",
        "from sklearn.metrics import accuracy_score, f1_score, precision_score, recall_score\n",
        "import os"
      ]
    },
    {
      "cell_type": "markdown",
      "id": "military-differential",
      "metadata": {
        "id": "military-differential"
      },
      "source": [
        "### 3. Import the data into Python. (6 points)\n",
        "\n",
        "Write code to read the data into Python. Here we're focusing on the slot detection task. This means that you need extract the utterances along with their IOB tags. If you're not familiar with the IOB format, check out this Wikipedia entry: [IOB format](https://en.wikipedia.org/wiki/Inside%E2%80%93outside%E2%80%93beginning_(tagging)).\n",
        "\n",
        "**Enter and run your code below. You may insert additional code boxes and text boxes for comments.**"
      ]
    },
    {
      "cell_type": "markdown",
      "id": "98a71682",
      "metadata": {
        "id": "98a71682"
      },
      "source": [
        "*The function takes path, filename as mandatory inputs. After a series of simple operations, the functions returns dataframe. The dataframe contains three columns. The feature column contains full sentences i.e. utterrances and the response column (y) contains slots (IOB). The intent column contains Intent, but it is not used later in the code. By default, the function removes all duplicate entries in the dataset.*"
      ]
    },
    {
      "cell_type": "code",
      "execution_count": null,
      "id": "floating-plaza",
      "metadata": {
        "id": "floating-plaza"
      },
      "outputs": [],
      "source": [
        "def get_dataframe_from_Conll(path, filename, canRemoveDuplicates=True):\n",
        "    dataset_path = os.path.join(path, filename)\n",
        "    data = open(dataset_path, mode='r', encoding='utf-8')\n",
        "    data = data.read()\n",
        "    sentences = conllu.parse(data, fields=[\"id\", \"form\", \"intent\", \"tag\"])\n",
        "    xT = list()\n",
        "    yT = list()\n",
        "    tagT = list()\n",
        "    for iSentence in sentences:\n",
        "        sentenceString = list()\n",
        "        intentString = list()\n",
        "        tagString = list()\n",
        "        for iToken in list(iSentence):\n",
        "            sentenceString.append(iToken['form'].lower())\n",
        "            intentString.append(iToken['intent'].lower())\n",
        "            tagString.append(iToken['tag'].lower())\n",
        "        xT.append(' '.join(sentenceString))\n",
        "        yT.append(list(set(intentString))[0])\n",
        "        tagT.append(list(tagString))\n",
        "\n",
        "    data = {'X': xT, 'y': tagT, 'intent': yT}\n",
        "    df = pd.DataFrame(data=data)\n",
        "    if (canRemoveDuplicates == True):\n",
        "        df.drop_duplicates(subset=['X'], inplace=True)\n",
        "        df.reset_index(drop=True, inplace=True)\n",
        "    return df"
      ]
    },
    {
      "cell_type": "code",
      "execution_count": null,
      "id": "PdYvbpXIovTd",
      "metadata": {
        "id": "PdYvbpXIovTd"
      },
      "outputs": [],
      "source": [
        "# As instructed the data is in data folder and I assume that CWD is one directory before data dir.\n",
        "dataset = os.path.join(os.getcwd(), 'data')  # To run in MLTGPU\n",
        "dataset = \"/content/drive/My Drive/DIS/Colab/open-data/data/\"  # To run in Colab\n",
        "df_train = get_dataframe_from_Conll(dataset, 'en.train.conll', canRemoveDuplicates=True)\n",
        "df_valid = get_dataframe_from_Conll(dataset, 'en.valid.conll', canRemoveDuplicates=True)"
      ]
    },
    {
      "cell_type": "code",
      "execution_count": null,
      "id": "P_ihvk26qGBu",
      "metadata": {
        "colab": {
          "base_uri": "https://localhost:8080/",
          "height": 206
        },
        "id": "P_ihvk26qGBu",
        "outputId": "fc8522ab-6d76-43d3-cf88-558a6d61b5cd"
      },
      "outputs": [
        {
          "data": {
            "text/html": [
              "<div>\n",
              "<style scoped>\n",
              "    .dataframe tbody tr th:only-of-type {\n",
              "        vertical-align: middle;\n",
              "    }\n",
              "\n",
              "    .dataframe tbody tr th {\n",
              "        vertical-align: top;\n",
              "    }\n",
              "\n",
              "    .dataframe thead th {\n",
              "        text-align: right;\n",
              "    }\n",
              "</style>\n",
              "<table border=\"1\" class=\"dataframe\">\n",
              "  <thead>\n",
              "    <tr style=\"text-align: right;\">\n",
              "      <th></th>\n",
              "      <th>X</th>\n",
              "      <th>y</th>\n",
              "      <th>intent</th>\n",
              "    </tr>\n",
              "  </thead>\n",
              "  <tbody>\n",
              "    <tr>\n",
              "      <th>0</th>\n",
              "      <td>tell me the weather report for half moon bay</td>\n",
              "      <td>[o, o, o, o, o, o, b-location, i-location, i-l...</td>\n",
              "      <td>weather/find</td>\n",
              "    </tr>\n",
              "    <tr>\n",
              "      <th>1</th>\n",
              "      <td>give me the latest forecast for half moon bay</td>\n",
              "      <td>[o, o, o, b-datetime, o, o, b-location, i-loca...</td>\n",
              "      <td>weather/find</td>\n",
              "    </tr>\n",
              "    <tr>\n",
              "      <th>2</th>\n",
              "      <td>give me friday's forecast for half moon bay</td>\n",
              "      <td>[o, o, b-datetime, o, o, b-location, i-locatio...</td>\n",
              "      <td>weather/find</td>\n",
              "    </tr>\n",
              "    <tr>\n",
              "      <th>3</th>\n",
              "      <td>i need to know the latest forecast for half mo...</td>\n",
              "      <td>[o, o, o, o, o, b-datetime, o, o, b-datetime, ...</td>\n",
              "      <td>weather/find</td>\n",
              "    </tr>\n",
              "    <tr>\n",
              "      <th>4</th>\n",
              "      <td>do you have thursday's weather report for half...</td>\n",
              "      <td>[o, o, o, b-datetime, o, o, o, b-location, i-l...</td>\n",
              "      <td>weather/find</td>\n",
              "    </tr>\n",
              "  </tbody>\n",
              "</table>\n",
              "</div>"
            ],
            "text/plain": [
              "                                                   X  \\\n",
              "0       tell me the weather report for half moon bay   \n",
              "1      give me the latest forecast for half moon bay   \n",
              "2        give me friday's forecast for half moon bay   \n",
              "3  i need to know the latest forecast for half mo...   \n",
              "4  do you have thursday's weather report for half...   \n",
              "\n",
              "                                                   y        intent  \n",
              "0  [o, o, o, o, o, o, b-location, i-location, i-l...  weather/find  \n",
              "1  [o, o, o, b-datetime, o, o, b-location, i-loca...  weather/find  \n",
              "2  [o, o, b-datetime, o, o, b-location, i-locatio...  weather/find  \n",
              "3  [o, o, o, o, o, b-datetime, o, o, b-datetime, ...  weather/find  \n",
              "4  [o, o, o, b-datetime, o, o, o, b-location, i-l...  weather/find  "
            ]
          },
          "execution_count": 5,
          "metadata": {},
          "output_type": "execute_result"
        }
      ],
      "source": [
        "df_train.head(5)"
      ]
    },
    {
      "cell_type": "markdown",
      "id": "written-geometry",
      "metadata": {
        "id": "written-geometry"
      },
      "source": [
        "### 4. Think about the features. (1 points)\n",
        "\n",
        "In this task, we have a one token to one label prediction problem. (You may recall that in assignment 1, we had a one utterance to one label problem). One modeling option here would be to do a bag-of-words for predicting each label individually. \n",
        "\n",
        "    1. Why is that not the best for our task?\n",
        "\n",
        "**Enter your answer below.**"
      ]
    },
    {
      "cell_type": "markdown",
      "id": "62745612",
      "metadata": {
        "id": "62745612",
        "outputId": "118163ea-1740-42cb-b0e6-91a98fd27430"
      },
      "source": [
        "*A bag-of-words approach isn't good because it loses the word order (sequence). For example, the two sentence 'Is this pen ?' and 'This is pen .' will not have any difference for a bag of words approach of the '.' and '?' are ignored. Even with their presence it makes little to no difference.*\n",
        "\n",
        "*A bag-of-words isn't suitable in slot or intent detection because the slot placing is highly dependent on the word before non o-slot. For example, t'ell me the weather report for Gothenburg' - Here Gothenburg is location and the word 'for' has a significant importance in recognizing. With a bag of words concept the example statment is same as 'tell Gothenburg the report of me weather' which is probably hilarious.*\n",
        "\n",
        "*As an improvement one can instead use LSTM or recurrent neural networks in general where the sequence has special importance.*"
      ]
    },
    {
      "cell_type": "markdown",
      "id": "brutal-marijuana",
      "metadata": {
        "id": "brutal-marijuana"
      },
      "source": [
        "### 5. Build your features. (12 points)\n",
        "\n",
        "When we predict sequences, we usually use a family of algorithms specialized on sequences, for example, HMMs (which you may recall from language modeling) or CRFs. We are **not** covering these in LT2222. However, we can still approximate a sequence, i.e., use the context, in the form of individual features. For this, we'll represent each training example as:\n",
        "\n",
        "*previous token, current token, next token, current label*\n",
        "\n",
        "Extract the training examples so you have your **X and Y variables**. Then, transform them into sparce vectors relying on [Scikit-learn feature extraction](https://scikit-learn.org/stable/modules/feature_extraction.html#feature-extraction).  \n",
        "\n",
        "\n",
        "**Enter and run your code below. You may insert additional code boxes and text boxes for comments.**"
      ]
    },
    {
      "cell_type": "code",
      "execution_count": null,
      "id": "civil-publicity",
      "metadata": {
        "id": "civil-publicity"
      },
      "outputs": [],
      "source": [
        "def add_words_beginning_end(df):\n",
        "    \"\"\"\n",
        "    The goal here is to add a non corpus beginning and end word in each sentence.\n",
        "    This is done so that the first and last corpus token in each utterances also gets a trigram.\n",
        "    The added word I chose is 'NonLabelToken'.\n",
        "    \"\"\"\n",
        "    df['X'] = df['X'].apply(lambda x: \"{}{}\".format('NonLabelToken ', x))\n",
        "    df['X'] = df['X'].apply(lambda x: \"{}{}\".format(x, ' NonLabelToken'))\n",
        "    return df"
      ]
    },
    {
      "cell_type": "code",
      "execution_count": null,
      "id": "VEpeSTQ4l-Cp",
      "metadata": {
        "id": "VEpeSTQ4l-Cp"
      },
      "outputs": [],
      "source": [
        "df_train = add_words_beginning_end(df_train)\n",
        "df_valid = add_words_beginning_end(df_valid)"
      ]
    },
    {
      "cell_type": "code",
      "execution_count": null,
      "id": "bIUZSQbjtQm6",
      "metadata": {
        "id": "bIUZSQbjtQm6"
      },
      "outputs": [],
      "source": [
        "def append_n_grams_in_df(df, n=3):\n",
        "    \"\"\"\n",
        "    Here an additional column is added to the dataframe. The column trigrams contains list of tuples.\n",
        "    Each tuple represent each trigram. This is done using nltk everygram function.\n",
        "    \"\"\"\n",
        "    df['trigrams'] = df['X'].apply(lambda utterance: list(everygrams(utterance.split(), n, n)))\n",
        "    return df"
      ]
    },
    {
      "cell_type": "code",
      "execution_count": null,
      "id": "PQnlz5Ffl-gn",
      "metadata": {
        "id": "PQnlz5Ffl-gn"
      },
      "outputs": [],
      "source": [
        "df_train = append_n_grams_in_df(df_train)\n",
        "df_valid = append_n_grams_in_df(df_valid)"
      ]
    },
    {
      "cell_type": "code",
      "execution_count": null,
      "id": "DRRPIKkutNAX",
      "metadata": {
        "id": "DRRPIKkutNAX"
      },
      "outputs": [],
      "source": [
        "def get_trigrams_label(df):\n",
        "    \"\"\"\n",
        "    Here an additional column 'trigram_label' is added to the DF.\n",
        "    Each row in the column contains a dictionary.\n",
        "    The dictionary keys are trigram and values is their label i.e. IOB class. \n",
        "    One to one mapping is preserved.\n",
        "    \"\"\"\n",
        "    df['trigrams_label'] = df.apply(lambda a: dict(zip(a['trigrams'], a['y'])), axis=1)\n",
        "    return df\n",
        "\n",
        "df_train = get_trigrams_label(df_train)\n",
        "df_valid = get_trigrams_label(df_valid)"
      ]
    },
    {
      "cell_type": "code",
      "execution_count": null,
      "id": "9ICSvlL94G1d",
      "metadata": {
        "colab": {
          "base_uri": "https://localhost:8080/"
        },
        "id": "9ICSvlL94G1d",
        "outputId": "3fc5122a-014c-4567-b10f-c50ffbfc5216"
      },
      "outputs": [
        {
          "data": {
            "text/html": [
              "<div>\n",
              "<style scoped>\n",
              "    .dataframe tbody tr th:only-of-type {\n",
              "        vertical-align: middle;\n",
              "    }\n",
              "\n",
              "    .dataframe tbody tr th {\n",
              "        vertical-align: top;\n",
              "    }\n",
              "\n",
              "    .dataframe thead th {\n",
              "        text-align: right;\n",
              "    }\n",
              "</style>\n",
              "<table border=\"1\" class=\"dataframe\">\n",
              "  <thead>\n",
              "    <tr style=\"text-align: right;\">\n",
              "      <th></th>\n",
              "      <th>X</th>\n",
              "      <th>y</th>\n",
              "      <th>trigrams_label</th>\n",
              "    </tr>\n",
              "  </thead>\n",
              "  <tbody>\n",
              "    <tr>\n",
              "      <th>0</th>\n",
              "      <td>NonLabelToken tell me the weather report for h...</td>\n",
              "      <td>[o, o, o, o, o, o, b-location, i-location, i-l...</td>\n",
              "      <td>{('NonLabelToken', 'tell', 'me'): 'o', ('tell'...</td>\n",
              "    </tr>\n",
              "    <tr>\n",
              "      <th>1</th>\n",
              "      <td>NonLabelToken give me the latest forecast for ...</td>\n",
              "      <td>[o, o, o, b-datetime, o, o, b-location, i-loca...</td>\n",
              "      <td>{('NonLabelToken', 'give', 'me'): 'o', ('give'...</td>\n",
              "    </tr>\n",
              "    <tr>\n",
              "      <th>2</th>\n",
              "      <td>NonLabelToken give me friday's forecast for ha...</td>\n",
              "      <td>[o, o, b-datetime, o, o, b-location, i-locatio...</td>\n",
              "      <td>{('NonLabelToken', 'give', 'me'): 'o', ('give'...</td>\n",
              "    </tr>\n",
              "    <tr>\n",
              "      <th>3</th>\n",
              "      <td>NonLabelToken i need to know the latest foreca...</td>\n",
              "      <td>[o, o, o, o, o, b-datetime, o, o, b-datetime, ...</td>\n",
              "      <td>{('NonLabelToken', 'i', 'need'): 'o', ('i', 'n...</td>\n",
              "    </tr>\n",
              "    <tr>\n",
              "      <th>4</th>\n",
              "      <td>NonLabelToken do you have thursday's weather r...</td>\n",
              "      <td>[o, o, o, b-datetime, o, o, o, b-location, i-l...</td>\n",
              "      <td>{('NonLabelToken', 'do', 'you'): 'o', ('do', '...</td>\n",
              "    </tr>\n",
              "    <tr>\n",
              "      <th>5</th>\n",
              "      <td>NonLabelToken do you have wednesday's weather ...</td>\n",
              "      <td>[o, o, o, b-datetime, o, o, o, b-location, i-l...</td>\n",
              "      <td>{('NonLabelToken', 'do', 'you'): 'o', ('do', '...</td>\n",
              "    </tr>\n",
              "    <tr>\n",
              "      <th>6</th>\n",
              "      <td>NonLabelToken give me most recent forecast for...</td>\n",
              "      <td>[o, o, b-datetime, i-datetime, o, o, b-locatio...</td>\n",
              "      <td>{('NonLabelToken', 'give', 'me'): 'o', ('give'...</td>\n",
              "    </tr>\n",
              "    <tr>\n",
              "      <th>7</th>\n",
              "      <td>NonLabelToken give me thursday's half moon bay...</td>\n",
              "      <td>[o, o, b-datetime, b-location, i-location, i-l...</td>\n",
              "      <td>{('NonLabelToken', 'give', 'me'): 'o', ('give'...</td>\n",
              "    </tr>\n",
              "    <tr>\n",
              "      <th>8</th>\n",
              "      <td>NonLabelToken give me the most recent half moo...</td>\n",
              "      <td>[o, o, o, b-datetime, i-datetime, b-location, ...</td>\n",
              "      <td>{('NonLabelToken', 'give', 'me'): 'o', ('give'...</td>\n",
              "    </tr>\n",
              "    <tr>\n",
              "      <th>9</th>\n",
              "      <td>NonLabelToken i need half moon bay's weather r...</td>\n",
              "      <td>[o, o, b-location, i-location, i-location, o, ...</td>\n",
              "      <td>{('NonLabelToken', 'i', 'need'): 'o', ('i', 'n...</td>\n",
              "    </tr>\n",
              "  </tbody>\n",
              "</table>\n",
              "</div>"
            ],
            "text/plain": [
              "                                                   X  \\\n",
              "0  NonLabelToken tell me the weather report for h...   \n",
              "1  NonLabelToken give me the latest forecast for ...   \n",
              "2  NonLabelToken give me friday's forecast for ha...   \n",
              "3  NonLabelToken i need to know the latest foreca...   \n",
              "4  NonLabelToken do you have thursday's weather r...   \n",
              "5  NonLabelToken do you have wednesday's weather ...   \n",
              "6  NonLabelToken give me most recent forecast for...   \n",
              "7  NonLabelToken give me thursday's half moon bay...   \n",
              "8  NonLabelToken give me the most recent half moo...   \n",
              "9  NonLabelToken i need half moon bay's weather r...   \n",
              "\n",
              "                                                   y  \\\n",
              "0  [o, o, o, o, o, o, b-location, i-location, i-l...   \n",
              "1  [o, o, o, b-datetime, o, o, b-location, i-loca...   \n",
              "2  [o, o, b-datetime, o, o, b-location, i-locatio...   \n",
              "3  [o, o, o, o, o, b-datetime, o, o, b-datetime, ...   \n",
              "4  [o, o, o, b-datetime, o, o, o, b-location, i-l...   \n",
              "5  [o, o, o, b-datetime, o, o, o, b-location, i-l...   \n",
              "6  [o, o, b-datetime, i-datetime, o, o, b-locatio...   \n",
              "7  [o, o, b-datetime, b-location, i-location, i-l...   \n",
              "8  [o, o, o, b-datetime, i-datetime, b-location, ...   \n",
              "9  [o, o, b-location, i-location, i-location, o, ...   \n",
              "\n",
              "                                      trigrams_label  \n",
              "0  {('NonLabelToken', 'tell', 'me'): 'o', ('tell'...  \n",
              "1  {('NonLabelToken', 'give', 'me'): 'o', ('give'...  \n",
              "2  {('NonLabelToken', 'give', 'me'): 'o', ('give'...  \n",
              "3  {('NonLabelToken', 'i', 'need'): 'o', ('i', 'n...  \n",
              "4  {('NonLabelToken', 'do', 'you'): 'o', ('do', '...  \n",
              "5  {('NonLabelToken', 'do', 'you'): 'o', ('do', '...  \n",
              "6  {('NonLabelToken', 'give', 'me'): 'o', ('give'...  \n",
              "7  {('NonLabelToken', 'give', 'me'): 'o', ('give'...  \n",
              "8  {('NonLabelToken', 'give', 'me'): 'o', ('give'...  \n",
              "9  {('NonLabelToken', 'i', 'need'): 'o', ('i', 'n...  "
            ]
          },
          "execution_count": 92,
          "metadata": {},
          "output_type": "execute_result"
        }
      ],
      "source": [
        "df_train[['X', 'y', 'trigrams_label']].head(10)"
      ]
    },
    {
      "cell_type": "code",
      "execution_count": null,
      "id": "cVD2b9tvh0T4",
      "metadata": {
        "id": "cVD2b9tvh0T4"
      },
      "outputs": [],
      "source": [
        "def get_trigram_label_dataframe(df):\n",
        "    \"\"\"\n",
        "    This function takes in the dataframe created so far and returns a new dataframe.\n",
        "    The new dataframe contains all trigrams from all utterances with their corresponding labels.\n",
        "    \"\"\"\n",
        "    xT = df['trigrams_label'].apply(lambda x: pd.DataFrame({'X':' '.join(k), 'y':v} for k, v in x.items()))\n",
        "    xT = xT.to_dict()\n",
        "    xT = pd.concat(xT.values(), ignore_index=True)\n",
        "    return xT"
      ]
    },
    {
      "cell_type": "code",
      "execution_count": null,
      "id": "8_ZUUQB-tuO1",
      "metadata": {
        "id": "8_ZUUQB-tuO1"
      },
      "outputs": [],
      "source": [
        "xTrain = get_trigram_label_dataframe(df_train)\n",
        "xValid = get_trigram_label_dataframe(df_valid)"
      ]
    },
    {
      "cell_type": "code",
      "execution_count": null,
      "id": "c3od2nEdANf7",
      "metadata": {
        "id": "c3od2nEdANf7"
      },
      "outputs": [],
      "source": [
        "vectorizer = CountVectorizer()\n",
        "transformer = TfidfTransformer(smooth_idf=False)\n",
        "def get_one_hot_encoded_features(X=xTrain['X'], vectorizer=vectorizer, transformer=transformer, useTfIdf=True, isTrainData=True):\n",
        "    \"\"\"\n",
        "    This function accepts dataframe containing all trigrams. By default a term frequency, inverse document frequency\n",
        "    is applied on the count matrix returned from CountVectorizer. The TF-IDF can be set to false using parameter in function.\n",
        "    The function fit_transform must be used for training data and the transform for test purposes to preserve the \n",
        "    feature space. \n",
        "    \n",
        "    The TF-IDF assign weights in between 0 and 1. Terms like 'the' are lower in number because they are common to \n",
        "    multiple documents. The rare words often get a high value.\n",
        "    \"\"\"\n",
        "    if isTrainData == True:\n",
        "        if useTfIdf == True:\n",
        "            return transformer.fit_transform(vectorizer.fit_transform(X))\n",
        "        else:\n",
        "            return vectorizer.fit_transform(X)\n",
        "    \n",
        "    else:\n",
        "        if useTfIdf == True:\n",
        "            return transformer.transform(vectorizer.transform(X))\n",
        "        else:\n",
        "            return vectorizer.transform(X)"
      ]
    },
    {
      "cell_type": "code",
      "execution_count": null,
      "id": "lo0sclZ7DdNK",
      "metadata": {
        "id": "lo0sclZ7DdNK"
      },
      "outputs": [],
      "source": [
        "XTrain_OneHotEncodedFeatures = get_one_hot_encoded_features(X=xTrain['X'], isTrainData=True)\n",
        "XValid_OneHotEncodedFeatures = get_one_hot_encoded_features(X=xValid['X'], isTrainData=False)"
      ]
    },
    {
      "cell_type": "code",
      "execution_count": null,
      "id": "OTgiZ0IiwODN",
      "metadata": {
        "colab": {
          "base_uri": "https://localhost:8080/"
        },
        "id": "OTgiZ0IiwODN",
        "outputId": "808a3f1d-3e22-40d6-dd5b-a9dc3a71aba7"
      },
      "outputs": [
        {
          "data": {
            "text/plain": [
              "<295154x12972 sparse matrix of type '<class 'numpy.float64'>'\n",
              "\twith 807957 stored elements in Compressed Sparse Row format>"
            ]
          },
          "execution_count": 97,
          "metadata": {},
          "output_type": "execute_result"
        }
      ],
      "source": [
        "XTrain_OneHotEncodedFeatures"
      ]
    },
    {
      "cell_type": "markdown",
      "id": "backed-blank",
      "metadata": {
        "id": "backed-blank"
      },
      "source": [
        "### 5. Using Scikit-learn fit either a SVM or a Maximum Entropy model. (3 points)\n",
        "\n",
        "Write your model inside a function. You'll need to call that function for testing.\n",
        "\n",
        "(If you run out of memory, or want an even quicker training, train on the validation set and test on the test set.) \n",
        "\n",
        "**Enter and run your code below. You may insert additional code boxes and text boxes for comments.**"
      ]
    },
    {
      "cell_type": "markdown",
      "id": "56d46227",
      "metadata": {
        "id": "56d46227"
      },
      "source": [
        "*A label encoder helps in converting the string based response variable to numbers. This doesn't have any significance to model performance, but, it is generally a good practice to convert them. The fit method does the encoding and the function transform converts a given set of string labels to integers labels using the results of fit.*"
      ]
    },
    {
      "cell_type": "code",
      "execution_count": null,
      "id": "mechanical-sixth",
      "metadata": {
        "id": "mechanical-sixth"
      },
      "outputs": [],
      "source": [
        "labelEncoder = preprocessing.LabelEncoder()\n",
        "def make_numeric_labels(yTrain=xTrain['y']):\n",
        "    labelEncoder.fit(list(set(yTrain)))\n",
        "    \n",
        "def get_numeric_labels(y=xTrain['y'], labelEncoder=labelEncoder):\n",
        "    return labelEncoder.transform(y)\n",
        "\n",
        "make_numeric_labels()"
      ]
    },
    {
      "cell_type": "code",
      "execution_count": null,
      "id": "JQx1miqvza7m",
      "metadata": {
        "id": "JQx1miqvza7m"
      },
      "outputs": [],
      "source": [
        "y_train_true = get_numeric_labels(xTrain['y'])\n",
        "y_valid_true = get_numeric_labels(xValid['y'])"
      ]
    },
    {
      "cell_type": "code",
      "execution_count": null,
      "id": "EeJlT9tvzggt",
      "metadata": {
        "id": "EeJlT9tvzggt"
      },
      "outputs": [],
      "source": [
        "def make_SVM_model(one_hot_encoded_features=XTrain_OneHotEncodedFeatures, numeric_labels=y_train_true, maxiter=20):\n",
        "    \"\"\"\n",
        "    The SGDClassifier is used for linear classifiers with stochastic gradient descent learning. For SVM, the loss \n",
        "    is hinge. The training iterations - epochs is controlled by max_iter and the early stop is controlled by tol.\n",
        "    \n",
        "    The function trains a sparse matrix with classes and returns the same classifer after making a fit.\n",
        "    \n",
        "    This function should never be called with test data because fit method should always be fed with training data \n",
        "    and not test data. The classifier is used for test but with function other than fit e.g. predict.\n",
        "    \"\"\"\n",
        "    classifier = SGDClassifier(loss='hinge', penalty='l2', alpha=1e-3, random_state=77, max_iter=maxiter, tol=0.1)\n",
        "    classifier.fit(one_hot_encoded_features.toarray(), numeric_labels)\n",
        "    return classifier"
      ]
    },
    {
      "cell_type": "code",
      "execution_count": null,
      "id": "nVpWPxag37es",
      "metadata": {
        "id": "nVpWPxag37es"
      },
      "outputs": [],
      "source": [
        "# Please uncomment this to train on Training data. The next cell trains using valid data and is much faster.\n",
        "\n",
        "# classifier = make_SVM_model(maxiter=3)"
      ]
    },
    {
      "cell_type": "code",
      "execution_count": null,
      "id": "5ca55881",
      "metadata": {
        "id": "5ca55881"
      },
      "outputs": [],
      "source": [
        "classifier = make_SVM_model(one_hot_encoded_features=XValid_OneHotEncodedFeatures, numeric_labels=y_valid_true)"
      ]
    },
    {
      "cell_type": "markdown",
      "id": "signed-council",
      "metadata": {
        "id": "signed-council"
      },
      "source": [
        "### 6. Evaluate your model using the development or test set. (8 points)\n",
        "\n",
        "If you arrived here, you've transformed your data in a way that you no longer have complete utterances but a training point per word. This means that your model has learned to predict one label at the time (ie., takes in one example or training point, ouputs one label). \n",
        "\n",
        "Now, you need to test your model:\n",
        "\n",
        "    1. Process your test set in the same way that you processed your training set.\n",
        "    2. Feed the model one example at the time (call your model after each example).\n",
        "    3. Compute accuracy per example (you may use Scikit-learn metrics).\n",
        "\n",
        "**Enter and run your code below. You may insert additional code boxes and text boxes for comments.**"
      ]
    },
    {
      "cell_type": "code",
      "execution_count": null,
      "id": "u2Lmhov746C7",
      "metadata": {
        "id": "u2Lmhov746C7"
      },
      "outputs": [],
      "source": [
        "# The next set of lines processes the test data in the same fashion as train data.\n",
        "# Note that right function calls are handled inside functions i.e. usage of transform instead of fit_transform etc.\n",
        "\n",
        "df_test = get_dataframe_from_Conll(dataset, 'en.test.conll', canRemoveDuplicates=True)\n",
        "df_test = add_words_beginning_end(df_test)\n",
        "df_test = append_n_grams_in_df(df_test)\n",
        "df_test = get_trigrams_label(df_test)\n",
        "xTest = get_trigram_label_dataframe(df_test)\n",
        "XTest_OneHotEncodedFeatures = get_one_hot_encoded_features(X=xTest['X'], isTrainData=False)\n",
        "y_test_true = get_numeric_labels(xTest['y'])"
      ]
    },
    {
      "cell_type": "code",
      "execution_count": null,
      "id": "right-simpson",
      "metadata": {
        "id": "right-simpson"
      },
      "outputs": [],
      "source": [
        "def get_predicted_labels(one_hot_encoded_features_predict=XTest_OneHotEncodedFeatures, classifier=classifier):\n",
        "    \"\"\"\n",
        "    The function predict, uses the fitted model to predict the labels on test or valid data.\n",
        "    If model fit is improved iteratively, for example in neural networks, then predict function\n",
        "    can take training labels as well calculate cost for cost functions.\n",
        "    \n",
        "    By default the sparse matrix for test data is passed. The function returns predicted labels in encoded form\n",
        "    because of label encoder in classifier.fit function.\n",
        "    \"\"\"\n",
        "    return classifier.predict(one_hot_encoded_features_predict.toarray())\n",
        "\n",
        "y_valid_pred = get_predicted_labels(one_hot_encoded_features_predict=XValid_OneHotEncodedFeatures)\n",
        "y_test_pred = get_predicted_labels(one_hot_encoded_features_predict=XTest_OneHotEncodedFeatures)"
      ]
    },
    {
      "cell_type": "code",
      "execution_count": null,
      "id": "UbqO22mW6Z0i",
      "metadata": {
        "id": "UbqO22mW6Z0i"
      },
      "outputs": [],
      "source": [
        "# This cell computes prediction per example. Here each example represents one complete test utterance.\n",
        "# A mean is computed for each utterances i.e. sum of matched pred and true for each token in the test\n",
        "# divided by total tokens in the utterances.\n",
        "\n",
        "# A distrbution is then plotted for these mean calculated.\n",
        "correctPerExample = list()\n",
        "for index in range(len(df_test)):\n",
        "    xTest = get_trigram_label_dataframe(df_test.iloc[[index]])\n",
        "    XTest_OneHotEncodedFeatures = get_one_hot_encoded_features(X=xTest['X'], isTrainData=False)\n",
        "    y_test_true = get_numeric_labels(xTest['y'])\n",
        "    y_test_pred = get_predicted_labels(one_hot_encoded_features_predict=XTest_OneHotEncodedFeatures)\n",
        "    correctPerExample.append(np.mean(y_test_pred == y_test_true))"
      ]
    },
    {
      "cell_type": "code",
      "execution_count": null,
      "id": "rNOggQsPEo9s",
      "metadata": {
        "colab": {
          "base_uri": "https://localhost:8080/",
          "height": 312
        },
        "id": "rNOggQsPEo9s",
        "outputId": "ee278adf-5b78-4194-814f-1f8a69201d0e"
      },
      "outputs": [
        {
          "data": {
            "text/plain": [
              "Text(0.5, 1.0, 'All data points for per example accuracy in test set')"
            ]
          },
          "execution_count": 103,
          "metadata": {},
          "output_type": "execute_result"
        },
        {
          "data": {
            "image/png": "[encoded data removed]",
            "text/plain": [
              "<Figure size 640x480 with 1 Axes>"
            ]
          },
          "metadata": {},
          "output_type": "display_data"
        }
      ],
      "source": [
        "# Sorted each example accuracy value in plot.\n",
        "plt.plot(sorted(correctPerExample, reverse=False))\n",
        "plt.xlabel('Index for test set example (Ordered by accuracy value)')\n",
        "plt.ylabel('Accuracy')\n",
        "plt.title('All data points for per example accuracy in test set')"
      ]
    },
    {
      "cell_type": "code",
      "execution_count": null,
      "id": "g-NelHFXEWNG",
      "metadata": {
        "colab": {
          "base_uri": "https://localhost:8080/",
          "height": 312
        },
        "id": "g-NelHFXEWNG",
        "outputId": "3eae689b-f5cf-4c1c-baf6-d2c17cdf182a"
      },
      "outputs": [
        {
          "data": {
            "text/plain": [
              "Text(0.5, 1.0, 'Histogram to show per example accuracy')"
            ]
          },
          "execution_count": 104,
          "metadata": {},
          "output_type": "execute_result"
        },
        {
          "data": {
            "image/png": "[encoded data removed]",
            "text/plain": [
              "<Figure size 640x480 with 1 Axes>"
            ]
          },
          "metadata": {},
          "output_type": "display_data"
        }
      ],
      "source": [
        "# Histogram of the each example accuracy value.\n",
        "plt.hist(correctPerExample)\n",
        "plt.xlabel('Per example accuracy')\n",
        "plt.ylabel('Frequency')\n",
        "plt.title('Histogram to show per example accuracy')"
      ]
    },
    {
      "cell_type": "markdown",
      "id": "pacific-absence",
      "metadata": {
        "id": "pacific-absence"
      },
      "source": [
        "# Bonus 1 point: Compute the accuracy for the entire test set.  "
      ]
    },
    {
      "cell_type": "markdown",
      "id": "a1327534",
      "metadata": {
        "id": "a1327534"
      },
      "source": [
        "*The method accuracy_score, precision_score, recall_score, f1_score are all used to evaluate model performance. All these methods also support multi-class labels which is the case here. For multi-class labels, average 'macro' is used to treat all classes equally.*\n",
        "\n",
        "*These results can be influence with the average method chosen, and depending on the problem statement, they can chosen if for example true negatives is preferred over false negatives.* \n",
        "\n",
        "*For text classification, I think all classes should be treated equally and hence I chose macro.*"
      ]
    },
    {
      "cell_type": "code",
      "execution_count": null,
      "id": "chicken-ranking",
      "metadata": {
        "id": "chicken-ranking"
      },
      "outputs": [],
      "source": [
        "def get_evaluation_metrics_scores(yTrue, yPred):\n",
        "    model_accuracy = accuracy_score(yTrue, yPred)\n",
        "    print(f'The accuracy of the model = {model_accuracy:.4f}')\n",
        "\n",
        "    model_precision = precision_score(yTrue, yPred, average='macro')\n",
        "    print(f'The precision of the model with macro average = {model_precision:.4f}')\n",
        "\n",
        "    model_recall = recall_score(yTrue, yPred, average='macro')\n",
        "    print(f'The recall of the model with macro average = {model_recall:.4f}')\n",
        "\n",
        "    model_f1score = f1_score(yTrue, yPred, average='macro')\n",
        "    print(f'The f1 score of the model with macro average = {model_f1score:.4f}')"
      ]
    },
    {
      "cell_type": "code",
      "execution_count": null,
      "id": "j4eLh8lB6e_E",
      "metadata": {
        "colab": {
          "base_uri": "https://localhost:8080/"
        },
        "id": "j4eLh8lB6e_E",
        "outputId": "67d7f589-94bd-4566-e0d8-e2ca9a78ba1e"
      },
      "outputs": [
        {
          "name": "stdout",
          "output_type": "stream",
          "text": [
            "The accuracy of the model = 0.6667\n",
            "The precision of the model with macro average = 0.3889\n",
            "The recall of the model with macro average = 0.4375\n",
            "The f1 score of the model with macro average = 0.3929\n"
          ]
        },
        {
          "name": "stderr",
          "output_type": "stream",
          "text": [
            "/usr/local/lib64/python3.10/site-packages/sklearn/metrics/_classification.py:1334: UndefinedMetricWarning: Precision is ill-defined and being set to 0.0 in labels with no predicted samples. Use `zero_division` parameter to control this behavior.\n",
            "  _warn_prf(average, modifier, msg_start, len(result))\n"
          ]
        }
      ],
      "source": [
        "get_evaluation_metrics_scores(y_test_true, y_test_pred)"
      ]
    },
    {
      "cell_type": "markdown",
      "id": "330bf0ec",
      "metadata": {
        "id": "330bf0ec"
      },
      "source": [
        "*The model accuracy when tested on test data resulted in 66.67%.*\n",
        "*whereas the model precision, recall and f1 scores all turned out to be in range* [39, 45]%.\n",
        "\n",
        "*Even though the accuracy is relatively high, the model is not great enough. Accuracy can lead to biased results when there is a class imbalance in the training data. This can be seen in the histogram plot shown below.*\n",
        "\n",
        "*The F1-score reflects better performance of model when there is class imbalance. Since the F1-score is below 50%, we can state that there is still a higher scope to improve model performance.*\n",
        "\n",
        "*These scores as using TF-IDF matrix. The non TF-IDF matrix i.e. counts based one resulted in accuracy of 61%.*"
      ]
    },
    {
      "cell_type": "code",
      "execution_count": null,
      "id": "rPlfN2_w6mz4",
      "metadata": {
        "colab": {
          "base_uri": "https://localhost:8080/",
          "height": 312
        },
        "id": "rPlfN2_w6mz4",
        "outputId": "4e3ac1cf-f7fa-4e8b-9be6-f0c2d4bbba51"
      },
      "outputs": [
        {
          "data": {
            "text/plain": [
              "Text(0.5, 1.0, 'Histogram to show class imbalance')"
            ]
          },
          "execution_count": 67,
          "metadata": {},
          "output_type": "execute_result"
        },
        {
          "data": {
            "image/png": "[encoded data removed]",
            "text/plain": [
              "<Figure size 640x480 with 1 Axes>"
            ]
          },
          "metadata": {},
          "output_type": "display_data"
        }
      ],
      "source": [
        "plt.hist(y_train_true)\n",
        "plt.xlabel('Encoded intent')\n",
        "plt.ylabel('Frequency')\n",
        "plt.title('Histogram to show class imbalance')"
      ]
    },
    {
      "cell_type": "markdown",
      "id": "obvious-thing",
      "metadata": {
        "id": "obvious-thing"
      },
      "source": [
        "# Bonus 4 points: Find out what are the best features per class."
      ]
    },
    {
      "cell_type": "code",
      "execution_count": null,
      "id": "preceding-cornell",
      "metadata": {
        "colab": {
          "base_uri": "https://localhost:8080/"
        },
        "id": "preceding-cornell",
        "outputId": "65ecb592-b722-4139-d682-71a51ee48d5c"
      },
      "outputs": [
        {
          "name": "stdout",
          "output_type": "stream",
          "text": [
            "                      Class Feature with highest coefficient\n",
            "0    b-alarm/alarm_modifier                             None\n",
            "1                   b-album                            album\n",
            "2                  b-artist                              add\n",
            "3             b-best_rating                               of\n",
            "4   b-condition_description                           nearby\n",
            "..                      ...                              ...\n",
            "67                   i-sort                           highly\n",
            "68                  i-track                             None\n",
            "69      i-weather/attribute                             heat\n",
            "70                        o                    nonlabeltoken\n",
            "71      orecurring_datetime                             None\n",
            "\n",
            "[72 rows x 2 columns]\n"
          ]
        }
      ],
      "source": [
        "# The below code prints out features with highest coefficient value i.e. weight for each class. \n",
        "# Some classes have no weights, most likely due to either a poor fit or under-trained model.\n",
        "\n",
        "bfpc = {'Class': labelEncoder.classes_, 'Feature with highest coefficient': [None] * len(labelEncoder.classes_)}\n",
        "for index, label in enumerate(labelEncoder.classes_):\n",
        "    if index in classifier.classes_:\n",
        "        coeffIndex = list(classifier.classes_).index(index)\n",
        "        highestCoeff = np.argsort(classifier.coef_[coeffIndex])[-1:][0]\n",
        "        bfpc['Feature with highest coefficient'][index] = vectorizer.get_feature_names_out()[highestCoeff]\n",
        "\n",
        "bfpc = pd.DataFrame(data=bfpc, columns=['Class', 'Feature with highest coefficient'])\n",
        "print(bfpc)"
      ]
    },
    {
      "cell_type": "code",
      "execution_count": null,
      "id": "f99e3568",
      "metadata": {
        "id": "f99e3568"
      },
      "outputs": [],
      "source": []
    }
  ],
  "metadata": {
    "colab": {
      "provenance": [],
      "include_colab_link": true
    },
    "kernelspec": {
      "display_name": "Python 3 (ipykernel)",
      "language": "python",
      "name": "python3"
    },
    "language_info": {
      "codemirror_mode": {
        "name": "ipython",
        "version": 3
      },
      "file_extension": ".py",
      "mimetype": "text/x-python",
      "name": "python",
      "nbconvert_exporter": "python",
      "pygments_lexer": "ipython3",
      "version": "3.10.8"
    }
  },
  "nbformat": 4,
  "nbformat_minor": 5
}